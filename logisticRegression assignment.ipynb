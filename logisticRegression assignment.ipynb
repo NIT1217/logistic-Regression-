{
  "nbformat": 4,
  "nbformat_minor": 0,
  "metadata": {
    "colab": {
      "provenance": []
    },
    "kernelspec": {
      "name": "python3",
      "display_name": "Python 3"
    },
    "language_info": {
      "name": "python"
    }
  },
  "cells": [
    {
      "cell_type": "markdown",
      "source": [
        "1. What is Logistic Regression, and how does it differ from Linear Regression?\n",
        "Logistic Regression is a classification algorithm used for binary outcomes, while Linear Regression is used for continuous outcomes. Logistic Regression uses a sigmoid function to output probabilities, unlike Linear Regression which directly models the relationship between independent and dependent variables.\n",
        "\n",
        "2. What is the mathematical equation of Logistic Regression?\n",
        "The core of Logistic Regression is the sigmoid function:\n",
        "\n",
        "\n",
        "3. Why do we use the Sigmoid function in Logistic Regression?\n",
        "The Sigmoid function squashes any real-valued number into a probability between 0 and 1, making it suitable for binary classification tasks by interpreting the output as the likelihood of belonging to a certain class.\n",
        "\n",
        "4. What is the cost function of Logistic Regression?\n",
        "The cost function for Logistic Regression is typically the log-loss (or cross-entropy loss), which penalizes incorrect probabilistic predictions.\n",
        "\n",
        "5. What is Regularization in Logistic Regression? Why is it needed?\n",
        "Regularization prevents overfitting by adding a penalty to the cost function based on the magnitude of the coefficients. It helps create a more generalized model.\n",
        "\n",
        "6. Explain the difference between Lasso, Ridge, and Elastic Net regression.\n",
        "Lasso (L1) adds an L1 penalty, encouraging sparsity (some coefficients become zero). Ridge (L2) adds an L2 penalty, shrinking coefficients towards zero. Elastic Net combines both L1 and L2 penalties.\n",
        "\n",
        "7. When should we use Elastic Net instead of Lasso or Ridge?\n",
        "Elastic Net is preferred when there are many correlated features, as it can select groups of correlated variables, unlike Lasso which might arbitrarily pick one. It also handles the limitations of Ridge and Lasso.\n",
        "\n",
        "8. What is the impact of the regularization parameter (λ) in Logistic Regression?\n",
        "The regularization parameter (λ) controls the strength of the penalty. A higher λ increases the penalty, leading to smaller coefficients and a simpler model, potentially reducing overfitting.\n",
        "\n",
        "9. What are the key assumptions of Logistic Regression?\n",
        "Key assumptions include linearity of independent variables with the log-odds, independence of errors, and absence of multicollinearity.\n",
        "\n",
        "10. What are some alternatives to Logistic Regression for classification tasks?\n",
        "Alternatives include Support Vector Machines (SVMs), Decision Trees, Random Forests, Gradient Boosting Machines (GBMs), K-Nearest Neighbors (KNN), and Neural Networks.\n",
        "\n",
        "11. What are Classification Evaluation Metrics?\n",
        "Classification evaluation metrics measure a model's performance. Common ones include accuracy, precision, recall, F1-score, ROC-AUC, and confusion matrix.\n",
        "\n",
        "12. How does class imbalance affect Logistic Regression?\n",
        "Class imbalance can lead to a biased model that performs well on the majority class but poorly on the minority class, as the model optimizes for overall accuracy.\n",
        "\n",
        "13. What is Hyperparameter Tuning in Logistic Regression?\n",
        "Hyperparameter tuning involves finding the optimal values for parameters not learned from the data (e.g., regularization strength 'C', solver) to maximize model performance.\n",
        "\n",
        "14. What are different solvers in Logistic Regression? Which one should be used?\n",
        "Common solvers include 'liblinear', 'newton-cg', 'lbfgs', 'sag', and 'saga'. The choice depends on the dataset size and regularization type; 'liblinear' is good for small datasets, while 'saga' handles L1, L2, and Elastic-Net.\n",
        "\n",
        "15. How is Logistic Regression extended for multiclass classification?\n",
        "Logistic Regression is extended for multiclass classification primarily using One-vs-Rest (OvR) or Softmax (multinomial logistic regression).\n",
        "\n",
        "16. What are the advantages and disadvantages of Logistic Regression?\n",
        "Advantages include simplicity, interpretability, and efficiency. Disadvantages include the assumption of linearity between independent variables and log-odds, and sensitivity to outliers.\n",
        "\n",
        "17. What are some use cases of Logistic Regression?\n",
        "Common use cases include spam detection, disease prediction (e.g., diabetes), customer churn prediction, and credit scoring.\n",
        "\n",
        "18. What is the difference between Softmax Regression and Logistic Regression?\n",
        "Logistic Regression is for binary classification, outputting a single probability. Softmax Regression (multinomial logistic regression) extends this for multiclass classification, outputting probabilities for multiple classes.\n",
        "\n",
        "19. How do we choose between One-vs-Rest (OvR) and Softmax for multiclass classification?\n",
        "OvR trains a binary classifier for each class, useful when classes are independent. Softmax trains a single model for all classes, suitable when classes are mutually exclusive.\n",
        "\n",
        "20. How do we interpret coefficients in Logistic Regression?\n",
        "The coefficients represent the change in the log-odds of the dependent variable for a one-unit increase in the independent variable, holding others constant. Exponentiating them gives the odds ratio."
      ],
      "metadata": {
        "id": "eF3sfeW0iMmA"
      }
    },
    {
      "cell_type": "code",
      "execution_count": 1,
      "metadata": {
        "colab": {
          "base_uri": "https://localhost:8080/"
        },
        "id": "5jgeddHdiITZ",
        "outputId": "bb5adc2d-7ea1-45d3-9737-6a51ac8a121b"
      },
      "outputs": [
        {
          "output_type": "stream",
          "name": "stdout",
          "text": [
            "Model Accuracy: 1.0000\n"
          ]
        }
      ],
      "source": [
        "# 1.\n",
        "import pandas as pd\n",
        "from sklearn.model_selection import train_test_split\n",
        "from sklearn.linear_model import LogisticRegression\n",
        "from sklearn.metrics import accuracy_score\n",
        "\n",
        "\n",
        "from sklearn.datasets import load_iris\n",
        "iris = load_iris()\n",
        "X = iris.data\n",
        "y = iris.target\n",
        "\n",
        "y_binary = (y == 0).astype(int)\n",
        "\n",
        "\n",
        "# Split the dataset into training and testing sets\n",
        "X_train, X_test, y_train, y_test = train_test_split(X, y_binary, test_size=0.3, random_state=42)\n",
        "\n",
        "# Apply Logistic Regression\n",
        "model = LogisticRegression(max_iter=1000) # Increased max_iter for convergence\n",
        "model.fit(X_train, y_train)\n",
        "\n",
        "# Make predictions on the test set\n",
        "y_pred = model.predict(X_test)\n",
        "\n",
        "# Print the model accuracy\n",
        "accuracy = accuracy_score(y_test, y_pred)\n",
        "print(f\"Model Accuracy: {accuracy:.4f}\")"
      ]
    },
    {
      "cell_type": "code",
      "source": [
        "#2.\n",
        "import pandas as pd\n",
        "from sklearn.model_selection import train_test_split\n",
        "from sklearn.linear_model import LogisticRegression\n",
        "from sklearn.metrics import accuracy_score\n",
        "\n",
        "# Load your dataset (similar to question 1)\n",
        "# --- DEMO DATA ---\n",
        "from sklearn.datasets import load_iris\n",
        "iris = load_iris()\n",
        "X = iris.data\n",
        "y = iris.target\n",
        "y_binary = (y == 0).astype(int)\n",
        "# --- END DEMO DATA ---\n",
        "\n",
        "X_train, X_test, y_train, y_test = train_test_split(X, y_binary, test_size=0.3, random_state=42)\n",
        "\n",
        "\n",
        "model_l1 = LogisticRegression(penalty='l1', solver='liblinear', max_iter=1000)\n",
        "model_l1.fit(X_train, y_train)\n",
        "\n",
        "# Make predictions\n",
        "y_pred_l1 = model_l1.predict(X_test)\n",
        "\n",
        "# Print accuracy\n",
        "accuracy_l1 = accuracy_score(y_test, y_pred_l1)\n",
        "print(f\"Model Accuracy with L1 Regularization: {accuracy_l1:.4f}\")"
      ],
      "metadata": {
        "colab": {
          "base_uri": "https://localhost:8080/"
        },
        "id": "kwuNU1RzjfBR",
        "outputId": "a00129cf-9f8a-4da6-fdb3-0b97db42999c"
      },
      "execution_count": 2,
      "outputs": [
        {
          "output_type": "stream",
          "name": "stdout",
          "text": [
            "Model Accuracy with L1 Regularization: 1.0000\n"
          ]
        }
      ]
    },
    {
      "cell_type": "code",
      "source": [
        "#3.\n",
        "import pandas as pd\n",
        "from sklearn.model_selection import train_test_split\n",
        "from sklearn.linear_model import LogisticRegression\n",
        "from sklearn.metrics import accuracy_score\n",
        "\n",
        "from sklearn.datasets import load_iris\n",
        "iris = load_iris()\n",
        "X = iris.data\n",
        "y = iris.target\n",
        "y_binary = (y == 0).astype(int)\n",
        "# --- END DEMO DATA ---\n",
        "\n",
        "X_train, X_test, y_train, y_test = train_test_split(X, y_binary, test_size=0.3, random_state=42)\n",
        "\n",
        "\n",
        "model_l2 = LogisticRegression(penalty='l2', max_iter=1000)\n",
        "model_l2.fit(X_train, y_train)\n",
        "\n",
        "# Make predictions\n",
        "y_pred_l2 = model_l2.predict(X_test)\n",
        "\n",
        "# Print accuracy\n",
        "accuracy_l2 = accuracy_score(y_test, y_pred_l2)\n",
        "print(f\"Model Accuracy with L2 Regularization: {accuracy_l2:.4f}\")\n",
        "\n",
        "# Print coefficients\n",
        "print(\"Model Coefficients (L2 Regularization):\")\n",
        "for i, coef in enumerate(model_l2.coef_[0]):\n",
        "    print(f\"Feature {i}: {coef:.4f}\")\n",
        "print(f\"Intercept: {model_l2.intercept_[0]:.4f}\")"
      ],
      "metadata": {
        "colab": {
          "base_uri": "https://localhost:8080/"
        },
        "id": "YQ9Cp44zje-6",
        "outputId": "fb937948-412c-4060-ea99-d0198da2b58d"
      },
      "execution_count": 4,
      "outputs": [
        {
          "output_type": "stream",
          "name": "stdout",
          "text": [
            "Model Accuracy with L2 Regularization: 1.0000\n",
            "Model Coefficients (L2 Regularization):\n",
            "Feature 0: -0.4311\n",
            "Feature 1: 0.8457\n",
            "Feature 2: -2.1566\n",
            "Feature 3: -0.8894\n",
            "Intercept: 6.1394\n"
          ]
        }
      ]
    },
    {
      "cell_type": "code",
      "source": [
        "#4.\n",
        "import pandas as pd\n",
        "from sklearn.model_selection import train_test_split\n",
        "from sklearn.linear_model import LogisticRegression\n",
        "from sklearn.metrics import accuracy_score\n",
        "\n",
        "\n",
        "from sklearn.datasets import load_iris\n",
        "iris = load_iris()\n",
        "X = iris.data\n",
        "y = iris.target\n",
        "y_binary = (y == 0).astype(int)\n",
        "\n",
        "\n",
        "X_train, X_test, y_train, y_test = train_test_split(X, y_binary, test_size=0.3, random_state=42)\n",
        "\n",
        "model_elasticnet = LogisticRegression(penalty='elasticnet', solver='saga', l1_ratio=0.5, max_iter=1000)\n",
        "model_elasticnet.fit(X_train, y_train)\n",
        "\n",
        "# Make predictions\n",
        "y_pred_elasticnet = model_elasticnet.predict(X_test)\n",
        "\n",
        "# Print accuracy\n",
        "accuracy_elasticnet = accuracy_score(y_test, y_pred_elasticnet)\n",
        "print(f\"Model Accuracy with Elastic Net Regularization: {accuracy_elasticnet:.4f}\")\n",
        "print(\"Model Coefficients (Elastic Net Regularization):\")\n",
        "for i, coef in enumerate(model_elasticnet.coef_[0]):\n",
        "    print(f\"Feature {i}: {coef:.4f}\")"
      ],
      "metadata": {
        "colab": {
          "base_uri": "https://localhost:8080/"
        },
        "id": "lNkhhFfAje5j",
        "outputId": "464c7cb2-e61a-4b40-e94e-23025a1523e5"
      },
      "execution_count": 5,
      "outputs": [
        {
          "output_type": "stream",
          "name": "stdout",
          "text": [
            "Model Accuracy with Elastic Net Regularization: 1.0000\n",
            "Model Coefficients (Elastic Net Regularization):\n",
            "Feature 0: 0.0000\n",
            "Feature 1: 1.1403\n",
            "Feature 2: -2.3978\n",
            "Feature 3: -0.5140\n"
          ]
        },
        {
          "output_type": "stream",
          "name": "stderr",
          "text": [
            "/usr/local/lib/python3.11/dist-packages/sklearn/linear_model/_sag.py:348: ConvergenceWarning: The max_iter was reached which means the coef_ did not converge\n",
            "  warnings.warn(\n"
          ]
        }
      ]
    },
    {
      "cell_type": "code",
      "source": [
        "#5.\n",
        "import pandas as pd\n",
        "from sklearn.model_selection import train_test_split\n",
        "from sklearn.linear_model import LogisticRegression\n",
        "from sklearn.metrics import accuracy_score\n",
        "\n",
        "\n",
        "from sklearn.datasets import load_iris\n",
        "iris = load_iris()\n",
        "X = iris.data\n",
        "y = iris.target # This is already multiclass (0, 1, 2)\n",
        "\n",
        "X_train, X_test, y_train, y_test = train_test_split(X, y, test_size=0.3, random_state=42)\n",
        "\n",
        "model_ovr = LogisticRegression(multi_class='ovr', solver='liblinear', max_iter=1000)\n",
        "model_ovr.fit(X_train, y_train)\n",
        "\n",
        "# Make predictions\n",
        "y_pred_ovr = model_ovr.predict(X_test)\n",
        "\n",
        "# Print accuracy\n",
        "accuracy_ovr = accuracy_score(y_test, y_pred_ovr)\n",
        "print(f\"Multiclass Model Accuracy (OvR): {accuracy_ovr:.4f}\")"
      ],
      "metadata": {
        "colab": {
          "base_uri": "https://localhost:8080/"
        },
        "id": "HFVdhVeDje1a",
        "outputId": "31f23ee7-d724-42a0-f883-0497028e55bf"
      },
      "execution_count": 6,
      "outputs": [
        {
          "output_type": "stream",
          "name": "stdout",
          "text": [
            "Multiclass Model Accuracy (OvR): 0.9778\n"
          ]
        },
        {
          "output_type": "stream",
          "name": "stderr",
          "text": [
            "/usr/local/lib/python3.11/dist-packages/sklearn/linear_model/_logistic.py:1256: FutureWarning: 'multi_class' was deprecated in version 1.5 and will be removed in 1.7. Use OneVsRestClassifier(LogisticRegression(..)) instead. Leave it to its default value to avoid this warning.\n",
            "  warnings.warn(\n"
          ]
        }
      ]
    },
    {
      "cell_type": "code",
      "source": [
        "#6.\n",
        "import pandas as pd\n",
        "from sklearn.model_selection import train_test_split, GridSearchCV\n",
        "from sklearn.linear_model import LogisticRegression\n",
        "from sklearn.metrics import accuracy_score\n",
        "\n",
        "from sklearn.datasets import load_iris\n",
        "iris = load_iris()\n",
        "X = iris.data\n",
        "y = iris.target\n",
        "y_binary = (y == 0).astype(int)\n",
        "\n",
        "\n",
        "X_train, X_test, y_train, y_test = train_test_split(X, y_binary, test_size=0.3, random_state=42)\n",
        "\n",
        "\n",
        "param_grid = {\n",
        "    'C': [0.01, 0.1, 1, 10, 100],\n",
        "    'penalty': ['l1', 'l2'],\n",
        "    'solver': ['liblinear'] # 'liblinear' supports 'l1' and 'l2' for binary classification\n",
        "}\n",
        "\n",
        "# Create a Logistic Regression model instance\n",
        "log_reg = LogisticRegression(max_iter=1000)\n",
        "\n",
        "# Apply GridSearchCV\n",
        "grid_search = GridSearchCV(log_reg, param_grid, cv=5, scoring='accuracy', n_jobs=-1)\n",
        "grid_search.fit(X_train, y_train)\n",
        "\n",
        "# Print the best parameters and best score\n",
        "print(f\"Best Parameters: {grid_search.best_params_}\")\n",
        "print(f\"Best Training Accuracy (from GridSearchCV): {grid_search.best_score_:.4f}\")\n",
        "\n",
        "# Evaluate on the test set with the best estimator\n",
        "best_model = grid_search.best_estimator_\n",
        "y_pred_tuned = best_model.predict(X_test)\n",
        "test_accuracy_tuned = accuracy_score(y_test, y_pred_tuned)\n",
        "print(f\"Test Accuracy with Tuned Hyperparameters: {test_accuracy_tuned:.4f}\")"
      ],
      "metadata": {
        "colab": {
          "base_uri": "https://localhost:8080/"
        },
        "id": "ZQtbSEztjezF",
        "outputId": "6cacdc27-bb65-4d98-9271-463833acde86"
      },
      "execution_count": 7,
      "outputs": [
        {
          "output_type": "stream",
          "name": "stdout",
          "text": [
            "Best Parameters: {'C': 0.1, 'penalty': 'l1', 'solver': 'liblinear'}\n",
            "Best Training Accuracy (from GridSearchCV): 1.0000\n",
            "Test Accuracy with Tuned Hyperparameters: 1.0000\n"
          ]
        }
      ]
    },
    {
      "cell_type": "code",
      "source": [
        "#7.\n",
        "import pandas as pd\n",
        "from sklearn.model_selection import StratifiedKFold\n",
        "from sklearn.linear_model import LogisticRegression\n",
        "from sklearn.metrics import accuracy_score\n",
        "import numpy as np\n",
        "\n",
        "# Load your dataset\n",
        "# --- DEMO DATA ---\n",
        "from sklearn.datasets import load_iris\n",
        "iris = load_iris()\n",
        "X = iris.data\n",
        "y = iris.target\n",
        "y_binary = (y == 0).astype(int)\n",
        "# --- END DEMO DATA ---\n",
        "\n",
        "\n",
        "skf = StratifiedKFold(n_splits=5, shuffle=True, random_state=42)\n",
        "\n",
        "accuracies = []\n",
        "\n",
        "# Perform cross-validation\n",
        "for train_index, test_index in skf.split(X, y_binary):\n",
        "    X_train, X_test = X[train_index], X[test_index]\n",
        "    y_train, y_test = y_binary[train_index], y_binary[test_index]\n",
        "\n",
        "    model = LogisticRegression(max_iter=1000)\n",
        "    model.fit(X_train, y_train)\n",
        "    y_pred = model.predict(X_test)\n",
        "    accuracies.append(accuracy_score(y_test, y_pred))\n",
        "\n",
        "average_accuracy = np.mean(accuracies)\n",
        "print(f\"Average Accuracy with Stratified K-Fold CV: {average_accuracy:.4f}\")\n",
        "print(f\"Accuracies per fold: {accuracies}\")"
      ],
      "metadata": {
        "colab": {
          "base_uri": "https://localhost:8080/"
        },
        "id": "oRoULhqxjew9",
        "outputId": "1db62ca7-51aa-45ad-e337-e170d7e35849"
      },
      "execution_count": 8,
      "outputs": [
        {
          "output_type": "stream",
          "name": "stdout",
          "text": [
            "Average Accuracy with Stratified K-Fold CV: 1.0000\n",
            "Accuracies per fold: [1.0, 1.0, 1.0, 1.0, 1.0]\n"
          ]
        }
      ]
    },
    {
      "cell_type": "code",
      "source": [
        "#8. import pandas as pd\n",
        "from sklearn.model_selection import train_test_split\n",
        "from sklearn.linear_model import LogisticRegression\n",
        "from sklearn.metrics import accuracy_score\n",
        "\n",
        "\n",
        "try:\n",
        "    df = pd.read_csv('your_dataset.csv')\n",
        "except FileNotFoundError:\n",
        "    print(\"Error: 'your_dataset.csv' not found. Please provide a valid CSV file.\")\n",
        "\n",
        "    from sklearn.datasets import make_classification\n",
        "    X, y = make_classification(n_samples=1000, n_features=10, n_classes=2, random_state=42)\n",
        "    df = pd.DataFrame(X, columns=[f'feature_{i}' for i in range(10)])\n",
        "    df['target'] = y\n",
        "    print(\"Using a dummy dataset for demonstration.\")\n",
        "\n",
        "\n",
        "if 'target' in df.columns: # Check if 'target' exists (from dummy data)\n",
        "    X = df.drop('target', axis=1)\n",
        "    y = df['target']\n",
        "else: # If using a real CSV, replace 'your_target_column_name'\n",
        "    print(\"Please specify your target column name in the code.\")\n",
        "\n",
        "    exit()\n",
        "X_train, X_test, y_train, y_test = train_test_split(X, y, test_size=0.3, random_state=42)\n",
        "\n",
        "model = LogisticRegression(max_iter=1000)\n",
        "model.fit(X_train, y_train)\n",
        "\n",
        "y_pred = model.predict(X_test)\n",
        "\n",
        "accuracy = accuracy_score(y_test, y_pred)\n",
        "print(f\"Accuracy on CSV Dataset: {accuracy:.4f}\")"
      ],
      "metadata": {
        "colab": {
          "base_uri": "https://localhost:8080/"
        },
        "id": "AfFKqnv9jeut",
        "outputId": "a1060d6c-d517-4b5f-8928-a0b2b1fc2232"
      },
      "execution_count": 10,
      "outputs": [
        {
          "output_type": "stream",
          "name": "stdout",
          "text": [
            "Error: 'your_dataset.csv' not found. Please provide a valid CSV file.\n",
            "Using a dummy dataset for demonstration.\n",
            "Accuracy on CSV Dataset: 0.8467\n"
          ]
        }
      ]
    },
    {
      "cell_type": "code",
      "source": [
        "#9.\n",
        "import pandas as pd\n",
        "from sklearn.model_selection import train_test_split, RandomizedSearchCV\n",
        "from sklearn.linear_model import LogisticRegression\n",
        "from sklearn.metrics import accuracy_score\n",
        "from scipy.stats import uniform, randint\n",
        "\n",
        "# Load your dataset\n",
        "# --- DEMO DATA ---\n",
        "from sklearn.datasets import load_iris\n",
        "iris = load_iris()\n",
        "X = iris.data\n",
        "y = iris.target\n",
        "y_binary = (y == 0).astype(int)\n",
        "# --- END DEMO DATA ---\n",
        "\n",
        "X_train, X_test, y_train, y_test = train_test_split(X, y_binary, test_size=0.3, random_state=42)\n",
        "\n",
        "# Define the parameter distributions for RandomizedSearchCV\n",
        "param_distributions = {\n",
        "    'C': uniform(loc=0, scale=4), # C values from 0 to 4\n",
        "    'penalty': ['l1', 'l2'],\n",
        "    'solver': ['liblinear', 'saga'],\n",
        "    'max_iter': randint(100, 1000)\n",
        "}\n",
        "\n",
        "\n",
        "log_reg = LogisticRegression()\n",
        "\n",
        "\n",
        "random_search = RandomizedSearchCV(log_reg, param_distributions, n_iter=20, cv=5,\n",
        "                                   scoring='accuracy', random_state=42, n_jobs=-1)\n",
        "random_search.fit(X_train, y_train)\n",
        "\n",
        "# Print the best parameters and best score\n",
        "print(f\"Best Parameters: {random_search.best_params_}\")\n",
        "print(f\"Best Training Accuracy (from RandomizedSearchCV): {random_search.best_score_:.4f}\")\n",
        "\n",
        "# Evaluate on the test set with the best estimator\n",
        "best_model_rs = random_search.best_estimator_\n",
        "y_pred_rs = best_model_rs.predict(X_test)\n",
        "test_accuracy_rs = accuracy_score(y_test, y_pred_rs)\n",
        "print(f\"Test Accuracy with Tuned Hyperparameters (RandomizedSearch): {test_accuracy_rs:.4f}\")"
      ],
      "metadata": {
        "colab": {
          "base_uri": "https://localhost:8080/"
        },
        "id": "7ucH7wpojesL",
        "outputId": "27584012-ae79-410b-ad72-757e033a86dc"
      },
      "execution_count": 11,
      "outputs": [
        {
          "output_type": "stream",
          "name": "stdout",
          "text": [
            "Best Parameters: {'C': np.float64(1.49816047538945), 'max_iter': 960, 'penalty': 'l1', 'solver': 'liblinear'}\n",
            "Best Training Accuracy (from RandomizedSearchCV): 1.0000\n",
            "Test Accuracy with Tuned Hyperparameters (RandomizedSearch): 1.0000\n"
          ]
        }
      ]
    },
    {
      "cell_type": "code",
      "source": [
        "#10.\n",
        "import pandas as pd\n",
        "from sklearn.model_selection import train_test_split\n",
        "from sklearn.linear_model import LogisticRegression\n",
        "from sklearn.multiclass import OneVsOneClassifier\n",
        "from sklearn.metrics import accuracy_score\n",
        "\n",
        "# Load a multiclass dataset (e.g., Iris for its 3 classes)\n",
        "from sklearn.datasets import load_iris\n",
        "iris = load_iris()\n",
        "X = iris.data\n",
        "y = iris.target # Multiclass target\n",
        "\n",
        "X_train, X_test, y_train, y_test = train_test_split(X, y, test_size=0.3, random_state=42)\n",
        "\n",
        "estimator = LogisticRegression(max_iter=1000, solver='liblinear')\n",
        "ovo_model = OneVsOneClassifier(estimator)\n",
        "ovo_model.fit(X_train, y_train)\n",
        "\n",
        "# Make predictions\n",
        "y_pred_ovo = ovo_model.predict(X_test)\n",
        "\n",
        "# Print accuracy\n",
        "accuracy_ovo = accuracy_score(y_test, y_pred_ovo)\n",
        "print(f\"Multiclass Model Accuracy (One-vs-One): {accuracy_ovo:.4f}\")"
      ],
      "metadata": {
        "colab": {
          "base_uri": "https://localhost:8080/"
        },
        "id": "jevqzhVWjepV",
        "outputId": "7dc5d68d-83f9-4434-d415-9bbfaa9bed7b"
      },
      "execution_count": 12,
      "outputs": [
        {
          "output_type": "stream",
          "name": "stdout",
          "text": [
            "Multiclass Model Accuracy (One-vs-One): 1.0000\n"
          ]
        }
      ]
    },
    {
      "cell_type": "code",
      "source": [
        "#11.\n",
        "import pandas as pd\n",
        "from sklearn.model_selection import train_test_split\n",
        "from sklearn.linear_model import LogisticRegression\n",
        "from sklearn.metrics import confusion_matrix, ConfusionMatrixDisplay\n",
        "import matplotlib.pyplot as plt\n",
        "import seaborn as sns\n",
        "\n",
        "from sklearn.datasets import load_breast_cancer\n",
        "cancer = load_breast_cancer()\n",
        "X = cancer.data\n",
        "y = cancer.target\n",
        "# --- END DEMO DATA ---\n",
        "\n",
        "X_train, X_test, y_train, y_test = train_test_split(X, y, test_size=0.3, random_state=42)\n",
        "\n",
        "# Train Logistic Regression model\n",
        "model = LogisticRegression(max_iter=5000, solver='liblinear') # Increased max_iter for convergence\n",
        "model.fit(X_train, y_train)\n",
        "\n",
        "# Make predictions\n",
        "y_pred = model.predict(X_test)\n",
        "\n",
        "# Compute the confusion matrix\n",
        "cm = confusion_matrix(y_test, y_pred)\n",
        "print(\"Confusion Matrix:\")\n",
        "print(cm)\n",
        "\n",
        "# Visualize the confusion matrix\n",
        "plt.figure(figsize=(8, 6))\n",
        "disp = ConfusionMatrixDisplay(confusion_matrix=cm, display_labels=cancer.target_names)\n",
        "disp.plot(cmap=plt.cm.Blues)\n",
        "plt.title('Confusion Matrix for Logistic Regression')\n",
        "plt.show()"
      ],
      "metadata": {
        "colab": {
          "base_uri": "https://localhost:8080/",
          "height": 541
        },
        "id": "8USyLEGBjem2",
        "outputId": "ec7bb27a-9575-4ac2-8c0f-d80cea066f0b"
      },
      "execution_count": 14,
      "outputs": [
        {
          "output_type": "stream",
          "name": "stdout",
          "text": [
            "Confusion Matrix:\n",
            "[[ 59   4]\n",
            " [  2 106]]\n"
          ]
        },
        {
          "output_type": "display_data",
          "data": {
            "text/plain": [
              "<Figure size 800x600 with 0 Axes>"
            ]
          },
          "metadata": {}
        },
        {
          "output_type": "display_data",
          "data": {
            "text/plain": [
              "<Figure size 640x480 with 2 Axes>"
            ],
            "image/png": "[encoded data removed]"
          },
          "metadata": {}
        }
      ]
    },
    {
      "cell_type": "code",
      "source": [
        "#12.\n",
        "import pandas as pd\n",
        "from sklearn.model_selection import train_test_split\n",
        "from sklearn.linear_model import LogisticRegression\n",
        "from sklearn.metrics import precision_score, recall_score, f1_score, accuracy_score\n",
        "\n",
        "# Load a dataset suitable for binary classification\n",
        "# --- DEMO DATA ---\n",
        "from sklearn.datasets import load_breast_cancer\n",
        "cancer = load_breast_cancer()\n",
        "X = cancer.data\n",
        "y = cancer.target\n",
        "# --- END DEMO DATA ---\n",
        "\n",
        "X_train, X_test, y_train, y_test = train_test_split(X, y, test_size=0.3, random_state=42)\n",
        "\n",
        "# Train Logistic Regression model\n",
        "model = LogisticRegression(max_iter=5000, solver='liblinear')\n",
        "model.fit(X_train, y_train)\n",
        "\n",
        "# Make predictions\n",
        "y_pred = model.predict(X_test)\n",
        "\n",
        "# Evaluate using Precision, Recall, and F1-Score\n",
        "accuracy = accuracy_score(y_test, y_pred)\n",
        "precision = precision_score(y_test, y_pred)\n",
        "recall = recall_score(y_test, y_pred)\n",
        "f1 = f1_score(y_test, y_pred)\n",
        "\n",
        "print(f\"Accuracy: {accuracy:.4f}\")\n",
        "print(f\"Precision: {precision:.4f}\")\n",
        "print(f\"Recall: {recall:.4f}\")\n",
        "print(f\"F1-Score: {f1:.4f}\")"
      ],
      "metadata": {
        "colab": {
          "base_uri": "https://localhost:8080/"
        },
        "id": "IAbzhjpajekM",
        "outputId": "93e0706e-52eb-45fa-a23a-3836f71ab984"
      },
      "execution_count": 15,
      "outputs": [
        {
          "output_type": "stream",
          "name": "stdout",
          "text": [
            "Accuracy: 0.9649\n",
            "Precision: 0.9636\n",
            "Recall: 0.9815\n",
            "F1-Score: 0.9725\n"
          ]
        }
      ]
    },
    {
      "cell_type": "code",
      "source": [
        "#13.\n",
        "import pandas as pd\n",
        "from sklearn.model_selection import train_test_split\n",
        "from sklearn.linear_model import LogisticRegression\n",
        "from sklearn.metrics import classification_report, accuracy_score\n",
        "from collections import Counter\n",
        "from sklearn.datasets import make_classification # For creating imbalanced data\n",
        "\n",
        "# Create an imbalanced dataset for demonstration\n",
        "X, y = make_classification(n_samples=1000, n_features=10, n_classes=2,\n",
        "                           weights=[0.95, 0.05], random_state=42, flip_y=0) # 95% majority, 5% minority\n",
        "\n",
        "print(f\"Original class distribution: {Counter(y)}\")\n",
        "\n",
        "X_train, X_test, y_train, y_test = train_test_split(X, y, test_size=0.3, random_state=42, stratify=y) # Stratify to maintain imbalance\n",
        "\n",
        "# --- Model without class weights ---\n",
        "print(\"\\n--- Model without Class Weights ---\")\n",
        "model_no_weights = LogisticRegression(max_iter=1000, solver='liblinear')\n",
        "model_no_weights.fit(X_train, y_train)\n",
        "y_pred_no_weights = model_no_weights.predict(X_test)\n",
        "print(f\"Accuracy (no weights): {accuracy_score(y_test, y_pred_no_weights):.4f}\")\n",
        "print(\"Classification Report (no weights):\")\n",
        "print(classification_report(y_test, y_pred_no_weights))\n",
        "\n",
        "# --- Model with class weights ---\n",
        "print(\"\\n--- Model with Class Weights ---\")\n",
        "# 'balanced' automatically adjusts weights inversely proportional to class frequencies\n",
        "model_with_weights = LogisticRegression(max_iter=1000, solver='liblinear', class_weight='balanced')\n",
        "model_with_weights.fit(X_train, y_train)\n",
        "y_pred_with_weights = model_with_weights.predict(X_test)\n",
        "print(f\"Accuracy (with weights): {accuracy_score(y_test, y_pred_with_weights):.4f}\")\n",
        "print(\"Classification Report (with weights):\")\n",
        "print(classification_report(y_test, y_pred_with_weights))"
      ],
      "metadata": {
        "colab": {
          "base_uri": "https://localhost:8080/"
        },
        "id": "Vw9Pck5Gjehh",
        "outputId": "68ecaf8b-7a60-4c79-904a-fff978e89837"
      },
      "execution_count": 16,
      "outputs": [
        {
          "output_type": "stream",
          "name": "stdout",
          "text": [
            "Original class distribution: Counter({np.int64(0): 950, np.int64(1): 50})\n",
            "\n",
            "--- Model without Class Weights ---\n",
            "Accuracy (no weights): 0.9700\n",
            "Classification Report (no weights):\n",
            "              precision    recall  f1-score   support\n",
            "\n",
            "           0       0.97      1.00      0.98       285\n",
            "           1       0.88      0.47      0.61        15\n",
            "\n",
            "    accuracy                           0.97       300\n",
            "   macro avg       0.92      0.73      0.80       300\n",
            "weighted avg       0.97      0.97      0.97       300\n",
            "\n",
            "\n",
            "--- Model with Class Weights ---\n",
            "Accuracy (with weights): 0.9100\n",
            "Classification Report (with weights):\n",
            "              precision    recall  f1-score   support\n",
            "\n",
            "           0       0.98      0.92      0.95       285\n",
            "           1       0.32      0.73      0.45        15\n",
            "\n",
            "    accuracy                           0.91       300\n",
            "   macro avg       0.65      0.83      0.70       300\n",
            "weighted avg       0.95      0.91      0.93       300\n",
            "\n"
          ]
        }
      ]
    },
    {
      "cell_type": "code",
      "source": [
        "#14,\n",
        "import pandas as pd\n",
        "from sklearn.model_selection import train_test_split\n",
        "from sklearn.linear_model import LogisticRegression\n",
        "from sklearn.metrics import accuracy_score, classification_report\n",
        "from sklearn.impute import SimpleImputer\n",
        "from sklearn.preprocessing import OneHotEncoder\n",
        "from sklearn.compose import ColumnTransformer\n",
        "from sklearn.pipeline import Pipeline\n",
        "\n",
        "try:\n",
        "    df_titanic = pd.read_csv('titanic.csv')\n",
        "except FileNotFoundError:\n",
        "    print(\"Error: 'titanic.csv' not found. Please download it (e.g., from Kaggle) and place it in the same directory.\")\n",
        "    print(\"Using a dummy dataset for demonstration purposes as Titanic is not available.\")\n",
        "    # Dummy data if Titanic is not found\n",
        "    from sklearn.datasets import make_classification\n",
        "    X_dummy, y_dummy = make_classification(n_samples=500, n_features=5, n_classes=2, random_state=42)\n",
        "    df_titanic = pd.DataFrame(X_dummy, columns=['col1', 'col2', 'col3', 'col4', 'col5'])\n",
        "    df_titanic['Survived'] = y_dummy\n",
        "    df_titanic['Sex'] = ['male'] * 250 + ['female'] * 250\n",
        "    df_titanic['Age'] = df_titanic['col1'] * 10 + 20 # Example Age\n",
        "    df_titanic['Embarked'] = ['S'] * 400 + ['C'] * 50 + ['Q'] * 50\n",
        "    df_titanic.loc[10:20, 'Age'] = None # Introduce some missing values\n",
        "    df_titanic.loc[25:30, 'Embarked'] = None\n",
        "    print(\"Using a dummy dataset (Titanic-like structure) for demonstration.\")\n",
        "\n",
        "\n",
        "if 'Survived' in df_titanic.columns:\n",
        "    X = df_titanic.drop('Survived', axis=1)\n",
        "    y = df_titanic['Survived']\n",
        "else:\n",
        "    print(\"Target column 'Survived' not found. Please check your dataset.\")\n",
        "    exit()\n",
        "\n",
        "# Select relevant features (simplistic selection for demonstration)\n",
        "features = ['Pclass', 'Sex', 'Age', 'SibSp', 'Parch', 'Fare', 'Embarked']\n",
        "X = X[features]\n",
        "\n",
        "numeric_features = ['Age', 'Fare', 'SibSp', 'Parch', 'Pclass']\n",
        "categorical_features = ['Sex', 'Embarked']\n",
        "\n",
        "# Create preprocessing pipelines for numerical and categorical features\n",
        "numeric_transformer = Pipeline(steps=[\n",
        "    ('imputer', SimpleImputer(strategy='mean'))\n",
        "])\n",
        "\n",
        "categorical_transformer = Pipeline(steps=[\n",
        "    ('imputer', SimpleImputer(strategy='most_frequent')),\n",
        "    ('onehot', OneHotEncoder(handle_unknown='ignore'))\n",
        "])\n",
        "\n",
        "# Create a preprocessor using ColumnTransformer\n",
        "preprocessor = ColumnTransformer(\n",
        "    transformers=[\n",
        "        ('num', numeric_transformer, numeric_features),\n",
        "        ('cat', categorical_transformer, categorical_features)\n",
        "    ])\n",
        "\n",
        "# Create the full pipeline with preprocessing and Logistic Regression\n",
        "model_pipeline = Pipeline(steps=[('preprocessor', preprocessor),\n",
        "                               ('classifier', LogisticRegression(max_iter=1000, solver='liblinear'))])\n",
        "\n",
        "# Split data\n",
        "X_train, X_test, y_train, y_test = train_test_split(X, y, test_size=0.2, random_state=42)\n",
        "\n",
        "# Train the model\n",
        "model_pipeline.fit(X_train, y_train)\n",
        "\n",
        "# Make predictions\n",
        "y_pred = model_pipeline.predict(X_test)\n",
        "\n",
        "# Evaluate performance\n",
        "accuracy = accuracy_score(y_test, y_pred)\n",
        "print(f\"Accuracy on Titanic Dataset: {accuracy:.4f}\")\n",
        "print(\"Classification Report on Titanic Dataset:\")\n",
        "print(classification_report(y_test, y_pred))"
      ],
      "metadata": {
        "colab": {
          "base_uri": "https://localhost:8080/",
          "height": 408
        },
        "id": "4ZyVZLpDjee-",
        "outputId": "814c382d-81f9-42b3-f1a2-4eef34b87660"
      },
      "execution_count": 18,
      "outputs": [
        {
          "output_type": "stream",
          "name": "stdout",
          "text": [
            "Error: 'titanic.csv' not found. Please download it (e.g., from Kaggle) and place it in the same directory.\n",
            "Using a dummy dataset for demonstration purposes as Titanic is not available.\n",
            "Using a dummy dataset (Titanic-like structure) for demonstration.\n"
          ]
        },
        {
          "output_type": "error",
          "ename": "KeyError",
          "evalue": "\"['Pclass', 'SibSp', 'Parch', 'Fare'] not in index\"",
          "traceback": [
            "\u001b[0;31m---------------------------------------------------------------------------\u001b[0m",
            "\u001b[0;31mKeyError\u001b[0m                                  Traceback (most recent call last)",
            "\u001b[0;32m<ipython-input-18-2016502542>\u001b[0m in \u001b[0;36m<cell line: 0>\u001b[0;34m()\u001b[0m\n\u001b[1;32m     36\u001b[0m \u001b[0;31m# Select relevant features (simplistic selection for demonstration)\u001b[0m\u001b[0;34m\u001b[0m\u001b[0;34m\u001b[0m\u001b[0m\n\u001b[1;32m     37\u001b[0m \u001b[0mfeatures\u001b[0m \u001b[0;34m=\u001b[0m \u001b[0;34m[\u001b[0m\u001b[0;34m'Pclass'\u001b[0m\u001b[0;34m,\u001b[0m \u001b[0;34m'Sex'\u001b[0m\u001b[0;34m,\u001b[0m \u001b[0;34m'Age'\u001b[0m\u001b[0;34m,\u001b[0m \u001b[0;34m'SibSp'\u001b[0m\u001b[0;34m,\u001b[0m \u001b[0;34m'Parch'\u001b[0m\u001b[0;34m,\u001b[0m \u001b[0;34m'Fare'\u001b[0m\u001b[0;34m,\u001b[0m \u001b[0;34m'Embarked'\u001b[0m\u001b[0;34m]\u001b[0m\u001b[0;34m\u001b[0m\u001b[0;34m\u001b[0m\u001b[0m\n\u001b[0;32m---> 38\u001b[0;31m \u001b[0mX\u001b[0m \u001b[0;34m=\u001b[0m \u001b[0mX\u001b[0m\u001b[0;34m[\u001b[0m\u001b[0mfeatures\u001b[0m\u001b[0;34m]\u001b[0m\u001b[0;34m\u001b[0m\u001b[0;34m\u001b[0m\u001b[0m\n\u001b[0m\u001b[1;32m     39\u001b[0m \u001b[0;34m\u001b[0m\u001b[0m\n\u001b[1;32m     40\u001b[0m \u001b[0mnumeric_features\u001b[0m \u001b[0;34m=\u001b[0m \u001b[0;34m[\u001b[0m\u001b[0;34m'Age'\u001b[0m\u001b[0;34m,\u001b[0m \u001b[0;34m'Fare'\u001b[0m\u001b[0;34m,\u001b[0m \u001b[0;34m'SibSp'\u001b[0m\u001b[0;34m,\u001b[0m \u001b[0;34m'Parch'\u001b[0m\u001b[0;34m,\u001b[0m \u001b[0;34m'Pclass'\u001b[0m\u001b[0;34m]\u001b[0m\u001b[0;34m\u001b[0m\u001b[0;34m\u001b[0m\u001b[0m\n",
            "\u001b[0;32m/usr/local/lib/python3.11/dist-packages/pandas/core/frame.py\u001b[0m in \u001b[0;36m__getitem__\u001b[0;34m(self, key)\u001b[0m\n\u001b[1;32m   4106\u001b[0m             \u001b[0;32mif\u001b[0m \u001b[0mis_iterator\u001b[0m\u001b[0;34m(\u001b[0m\u001b[0mkey\u001b[0m\u001b[0;34m)\u001b[0m\u001b[0;34m:\u001b[0m\u001b[0;34m\u001b[0m\u001b[0;34m\u001b[0m\u001b[0m\n\u001b[1;32m   4107\u001b[0m                 \u001b[0mkey\u001b[0m \u001b[0;34m=\u001b[0m \u001b[0mlist\u001b[0m\u001b[0;34m(\u001b[0m\u001b[0mkey\u001b[0m\u001b[0;34m)\u001b[0m\u001b[0;34m\u001b[0m\u001b[0;34m\u001b[0m\u001b[0m\n\u001b[0;32m-> 4108\u001b[0;31m             \u001b[0mindexer\u001b[0m \u001b[0;34m=\u001b[0m \u001b[0mself\u001b[0m\u001b[0;34m.\u001b[0m\u001b[0mcolumns\u001b[0m\u001b[0;34m.\u001b[0m\u001b[0m_get_indexer_strict\u001b[0m\u001b[0;34m(\u001b[0m\u001b[0mkey\u001b[0m\u001b[0;34m,\u001b[0m \u001b[0;34m\"columns\"\u001b[0m\u001b[0;34m)\u001b[0m\u001b[0;34m[\u001b[0m\u001b[0;36m1\u001b[0m\u001b[0;34m]\u001b[0m\u001b[0;34m\u001b[0m\u001b[0;34m\u001b[0m\u001b[0m\n\u001b[0m\u001b[1;32m   4109\u001b[0m \u001b[0;34m\u001b[0m\u001b[0m\n\u001b[1;32m   4110\u001b[0m         \u001b[0;31m# take() does not accept boolean indexers\u001b[0m\u001b[0;34m\u001b[0m\u001b[0;34m\u001b[0m\u001b[0m\n",
            "\u001b[0;32m/usr/local/lib/python3.11/dist-packages/pandas/core/indexes/base.py\u001b[0m in \u001b[0;36m_get_indexer_strict\u001b[0;34m(self, key, axis_name)\u001b[0m\n\u001b[1;32m   6198\u001b[0m             \u001b[0mkeyarr\u001b[0m\u001b[0;34m,\u001b[0m \u001b[0mindexer\u001b[0m\u001b[0;34m,\u001b[0m \u001b[0mnew_indexer\u001b[0m \u001b[0;34m=\u001b[0m \u001b[0mself\u001b[0m\u001b[0;34m.\u001b[0m\u001b[0m_reindex_non_unique\u001b[0m\u001b[0;34m(\u001b[0m\u001b[0mkeyarr\u001b[0m\u001b[0;34m)\u001b[0m\u001b[0;34m\u001b[0m\u001b[0;34m\u001b[0m\u001b[0m\n\u001b[1;32m   6199\u001b[0m \u001b[0;34m\u001b[0m\u001b[0m\n\u001b[0;32m-> 6200\u001b[0;31m         \u001b[0mself\u001b[0m\u001b[0;34m.\u001b[0m\u001b[0m_raise_if_missing\u001b[0m\u001b[0;34m(\u001b[0m\u001b[0mkeyarr\u001b[0m\u001b[0;34m,\u001b[0m \u001b[0mindexer\u001b[0m\u001b[0;34m,\u001b[0m \u001b[0maxis_name\u001b[0m\u001b[0;34m)\u001b[0m\u001b[0;34m\u001b[0m\u001b[0;34m\u001b[0m\u001b[0m\n\u001b[0m\u001b[1;32m   6201\u001b[0m \u001b[0;34m\u001b[0m\u001b[0m\n\u001b[1;32m   6202\u001b[0m         \u001b[0mkeyarr\u001b[0m \u001b[0;34m=\u001b[0m \u001b[0mself\u001b[0m\u001b[0;34m.\u001b[0m\u001b[0mtake\u001b[0m\u001b[0;34m(\u001b[0m\u001b[0mindexer\u001b[0m\u001b[0;34m)\u001b[0m\u001b[0;34m\u001b[0m\u001b[0;34m\u001b[0m\u001b[0m\n",
            "\u001b[0;32m/usr/local/lib/python3.11/dist-packages/pandas/core/indexes/base.py\u001b[0m in \u001b[0;36m_raise_if_missing\u001b[0;34m(self, key, indexer, axis_name)\u001b[0m\n\u001b[1;32m   6250\u001b[0m \u001b[0;34m\u001b[0m\u001b[0m\n\u001b[1;32m   6251\u001b[0m             \u001b[0mnot_found\u001b[0m \u001b[0;34m=\u001b[0m \u001b[0mlist\u001b[0m\u001b[0;34m(\u001b[0m\u001b[0mensure_index\u001b[0m\u001b[0;34m(\u001b[0m\u001b[0mkey\u001b[0m\u001b[0;34m)\u001b[0m\u001b[0;34m[\u001b[0m\u001b[0mmissing_mask\u001b[0m\u001b[0;34m.\u001b[0m\u001b[0mnonzero\u001b[0m\u001b[0;34m(\u001b[0m\u001b[0;34m)\u001b[0m\u001b[0;34m[\u001b[0m\u001b[0;36m0\u001b[0m\u001b[0;34m]\u001b[0m\u001b[0;34m]\u001b[0m\u001b[0;34m.\u001b[0m\u001b[0munique\u001b[0m\u001b[0;34m(\u001b[0m\u001b[0;34m)\u001b[0m\u001b[0;34m)\u001b[0m\u001b[0;34m\u001b[0m\u001b[0;34m\u001b[0m\u001b[0m\n\u001b[0;32m-> 6252\u001b[0;31m             \u001b[0;32mraise\u001b[0m \u001b[0mKeyError\u001b[0m\u001b[0;34m(\u001b[0m\u001b[0;34mf\"{not_found} not in index\"\u001b[0m\u001b[0;34m)\u001b[0m\u001b[0;34m\u001b[0m\u001b[0;34m\u001b[0m\u001b[0m\n\u001b[0m\u001b[1;32m   6253\u001b[0m \u001b[0;34m\u001b[0m\u001b[0m\n\u001b[1;32m   6254\u001b[0m     \u001b[0;34m@\u001b[0m\u001b[0moverload\u001b[0m\u001b[0;34m\u001b[0m\u001b[0;34m\u001b[0m\u001b[0m\n",
            "\u001b[0;31mKeyError\u001b[0m: \"['Pclass', 'SibSp', 'Parch', 'Fare'] not in index\""
          ]
        }
      ]
    },
    {
      "cell_type": "code",
      "source": [
        "#15.\n",
        "import pandas as pd\n",
        "from sklearn.model_selection import train_test_split\n",
        "from sklearn.linear_model import LogisticRegression\n",
        "from sklearn.metrics import accuracy_score\n",
        "from sklearn.preprocessing import StandardScaler\n",
        "from sklearn.pipeline import Pipeline\n",
        "\n",
        "# Load a dataset\n",
        "# --- DEMO DATA ---\n",
        "from sklearn.datasets import load_breast_cancer\n",
        "cancer = load_breast_cancer()\n",
        "X = cancer.data\n",
        "y = cancer.target\n",
        "# --- END DEMO DATA ---\n",
        "\n",
        "X_train, X_test, y_train, y_test = train_test_split(X, y, test_size=0.3, random_state=42)\n",
        "\n",
        "# --- Model without Scaling ---\n",
        "print(\"--- Model without Feature Scaling ---\")\n",
        "model_no_scaling = LogisticRegression(max_iter=5000, solver='liblinear')\n",
        "model_no_scaling.fit(X_train, y_train)\n",
        "y_pred_no_scaling = model_no_scaling.predict(X_test)\n",
        "accuracy_no_scaling = accuracy_score(y_test, y_pred_no_scaling)\n",
        "print(f\"Accuracy without Scaling: {accuracy_no_scaling:.4f}\")\n",
        "\n",
        "# --- Model with Scaling (Standardization) ---\n",
        "print(\"\\n--- Model with Feature Scaling (Standardization) ---\")\n",
        "# Create a pipeline with StandardScaler and Logistic Regression\n",
        "model_with_scaling = Pipeline([\n",
        "    ('scaler', StandardScaler()),\n",
        "    ('log_reg', LogisticRegression(max_iter=5000, solver='liblinear'))\n",
        "])\n",
        "model_with_scaling.fit(X_train, y_train)\n",
        "y_pred_with_scaling = model_with_scaling.predict(X_test)\n",
        "accuracy_with_scaling = accuracy_score(y_test, y_pred_with_scaling)\n",
        "print(f\"Accuracy with Scaling: {accuracy_with_scaling:.4f}\")\n",
        "\n",
        "print(\"\\n--- Comparison ---\")\n",
        "print(f\"Accuracy difference (Scaled - No Scaling): {accuracy_with_scaling - accuracy_no_scaling:.4f}\")"
      ],
      "metadata": {
        "colab": {
          "base_uri": "https://localhost:8080/"
        },
        "id": "U0Yc8-KEjecU",
        "outputId": "709d7b28-c6cf-4757-e7ff-8d7ce350e2e9"
      },
      "execution_count": 19,
      "outputs": [
        {
          "output_type": "stream",
          "name": "stdout",
          "text": [
            "--- Model without Feature Scaling ---\n",
            "Accuracy without Scaling: 0.9649\n",
            "\n",
            "--- Model with Feature Scaling (Standardization) ---\n",
            "Accuracy with Scaling: 0.9825\n",
            "\n",
            "--- Comparison ---\n",
            "Accuracy difference (Scaled - No Scaling): 0.0175\n"
          ]
        }
      ]
    },
    {
      "cell_type": "code",
      "source": [
        "#16.\n",
        "import pandas as pd\n",
        "from sklearn.model_selection import train_test_split\n",
        "from sklearn.linear_model import LogisticRegression\n",
        "from sklearn.metrics import roc_auc_score, roc_curve\n",
        "import matplotlib.pyplot as plt\n",
        "\n",
        "# Load a dataset suitable for binary classification\n",
        "# --- DEMO DATA ---\n",
        "from sklearn.datasets import load_breast_cancer\n",
        "cancer = load_breast_cancer()\n",
        "X = cancer.data\n",
        "y = cancer.target\n",
        "# --- END DEMO DATA ---\n",
        "\n",
        "X_train, X_test, y_train, y_test = train_test_split(X, y, test_size=0.3, random_state=42)\n",
        "\n",
        "# Train Logistic Regression model\n",
        "model = LogisticRegression(max_iter=5000, solver='liblinear')\n",
        "model.fit(X_train, y_train)\n",
        "\n",
        "# Get predicted probabilities for the positive class (class 1)\n",
        "y_proba = model.predict_proba(X_test)[:, 1]\n",
        "\n",
        "# Calculate ROC-AUC score\n",
        "roc_auc = roc_auc_score(y_test, y_proba)\n",
        "print(f\"ROC-AUC Score: {roc_auc:.4f}\")\n",
        "\n",
        "# Plot ROC curve\n",
        "fpr, tpr, thresholds = roc_curve(y_test, y_proba)\n",
        "plt.figure(figsize=(8, 6))\n",
        "plt.plot(fpr, tpr, color='darkorange', lw=2, label=f'ROC curve (AUC = {roc_auc:.2f})')\n",
        "plt.plot([0, 1], [0, 1], color='navy', lw=2, linestyle='--')\n",
        "plt.xlim([0.0, 1.0])\n",
        "plt.ylim([0.0, 1.05])\n",
        "plt.xlabel('False Positive Rate')\n",
        "plt.ylabel('True Positive Rate')\n",
        "plt.title('Receiver Operating Characteristic (ROC) Curve')\n",
        "plt.legend(loc=\"lower right\")\n",
        "plt.grid(True)\n",
        "plt.show()"
      ],
      "metadata": {
        "colab": {
          "base_uri": "https://localhost:8080/",
          "height": 581
        },
        "id": "tom2LvIIjeZt",
        "outputId": "f45d7b51-2356-4cfb-b345-faddf74f1cff"
      },
      "execution_count": 20,
      "outputs": [
        {
          "output_type": "stream",
          "name": "stdout",
          "text": [
            "ROC-AUC Score: 0.9978\n"
          ]
        },
        {
          "output_type": "display_data",
          "data": {
            "text/plain": [
              "<Figure size 800x600 with 1 Axes>"
            ],
            "image/png": "[encoded data removed]"
          },
          "metadata": {}
        }
      ]
    },
    {
      "cell_type": "code",
      "source": [
        "#17.\n",
        "import pandas as pd\n",
        "from sklearn.model_selection import train_test_split\n",
        "from sklearn.linear_model import LogisticRegression\n",
        "from sklearn.metrics import accuracy_score\n",
        "\n",
        "# Load a dataset\n",
        "# --- DEMO DATA ---\n",
        "from sklearn.datasets import load_breast_cancer\n",
        "cancer = load_breast_cancer()\n",
        "X = cancer.data\n",
        "y = cancer.target\n",
        "# --- END DEMO DATA ---\n",
        "\n",
        "X_train, X_test, y_train, y_test = train_test_split(X, y, test_size=0.3, random_state=42)\n",
        "\n",
        "# Train Logistic Regression with a custom C value (regularization strength)\n",
        "# C is the inverse of regularization strength. Smaller C means stronger regularization.\n",
        "custom_C = 0.5\n",
        "model_custom_c = LogisticRegression(C=custom_C, max_iter=5000, solver='liblinear')\n",
        "model_custom_c.fit(X_train, y_train)\n",
        "\n",
        "# Make predictions\n",
        "y_pred_custom_c = model_custom_c.predict(X_test)\n",
        "\n",
        "# Print accuracy\n",
        "accuracy_custom_c = accuracy_score(y_test, y_pred_custom_c)\n",
        "print(f\"Model Accuracy with C={custom_C}: {accuracy_custom_c:.4f}\")"
      ],
      "metadata": {
        "colab": {
          "base_uri": "https://localhost:8080/"
        },
        "id": "dFEilFZGjeXF",
        "outputId": "56ba3db1-efd3-4640-b6a4-05bbf8297380"
      },
      "execution_count": 21,
      "outputs": [
        {
          "output_type": "stream",
          "name": "stdout",
          "text": [
            "Model Accuracy with C=0.5: 0.9649\n"
          ]
        }
      ]
    },
    {
      "cell_type": "code",
      "source": [
        "#18.\n",
        "import pandas as pd\n",
        "from sklearn.model_selection import train_test_split\n",
        "from sklearn.linear_model import LogisticRegression\n",
        "import numpy as np\n",
        "\n",
        "# Load a dataset\n",
        "# --- DEMO DATA ---\n",
        "from sklearn.datasets import load_breast_cancer\n",
        "cancer = load_breast_cancer()\n",
        "X = cancer.data\n",
        "y = cancer.target\n",
        "feature_names = cancer.feature_names # Get feature names\n",
        "# --- END DEMO DATA ---\n",
        "\n",
        "X_train, X_test, y_train, y_test = train_test_split(X, y, test_size=0.3, random_state=42)\n",
        "\n",
        "\n",
        "model = LogisticRegression(max_iter=5000, solver='liblinear', C=1.0) # Default C=1.0\n",
        "\n",
        "model.fit(X_train, y_train)\n",
        "\n",
        "coefficients = model.coef_[0]\n",
        "\n",
        "# Create a DataFrame for better visualization\n",
        "coef_df = pd.DataFrame({'Feature': feature_names, 'Coefficient': coefficients})\n",
        "\n",
        "# Sort by absolute coefficient value to identify importance\n",
        "coef_df['Abs_Coefficient'] = np.abs(coef_df['Coefficient'])\n",
        "coef_df = coef_df.sort_values(by='Abs_Coefficient', ascending=False)\n",
        "\n",
        "print(\"Important Features based on Logistic Regression Coefficients:\")\n",
        "print(coef_df)"
      ],
      "metadata": {
        "colab": {
          "base_uri": "https://localhost:8080/"
        },
        "id": "Z_mbtvqkjeUV",
        "outputId": "759e0786-d8f1-4bcb-c697-c5c1faef9ba9"
      },
      "execution_count": 23,
      "outputs": [
        {
          "output_type": "stream",
          "name": "stdout",
          "text": [
            "Important Features based on Logistic Regression Coefficients:\n",
            "                    Feature  Coefficient  Abs_Coefficient\n",
            "0               mean radius     2.175329         2.175329\n",
            "26          worst concavity    -1.579345         1.579345\n",
            "11            texture error     1.403643         1.403643\n",
            "20             worst radius     1.155193         1.155193\n",
            "25        worst compactness    -1.139760         1.139760\n",
            "28           worst symmetry    -0.729143         0.729143\n",
            "6            mean concavity    -0.655026         0.655026\n",
            "27     worst concave points    -0.617351         0.617351\n",
            "5          mean compactness    -0.411271         0.411271\n",
            "21            worst texture    -0.390328         0.390328\n",
            "7       mean concave points    -0.350106         0.350106\n",
            "24         worst smoothness    -0.242144         0.242144\n",
            "8             mean symmetry    -0.202222         0.202222\n",
            "1              mean texture     0.159658         0.159658\n",
            "4           mean smoothness    -0.130413         0.130413\n",
            "2            mean perimeter    -0.125372         0.125372\n",
            "12          perimeter error     0.117866         0.117866\n",
            "29  worst fractal dimension    -0.110785         0.110785\n",
            "13               area error    -0.109265         0.109265\n",
            "22          worst perimeter    -0.076792         0.076792\n",
            "10             radius error    -0.066118         0.066118\n",
            "16          concavity error    -0.063487         0.063487\n",
            "18           symmetry error    -0.048783         0.048783\n",
            "17     concave points error    -0.041148         0.041148\n",
            "9    mean fractal dimension    -0.029289         0.029289\n",
            "15        compactness error    -0.024838         0.024838\n",
            "23               worst area    -0.021324         0.021324\n",
            "14         smoothness error    -0.014646         0.014646\n",
            "3                 mean area    -0.004002         0.004002\n",
            "19  fractal dimension error    -0.000769         0.000769\n"
          ]
        }
      ]
    },
    {
      "cell_type": "code",
      "source": [
        "#19.\n",
        "import pandas as pd\n",
        "from sklearn.model_selection import train_test_split\n",
        "from sklearn.linear_model import LogisticRegression\n",
        "from sklearn.metrics import cohen_kappa_score, accuracy_score\n",
        "\n",
        "# Load a dataset suitable for binary classification\n",
        "# --- DEMO DATA ---\n",
        "from sklearn.datasets import load_breast_cancer\n",
        "cancer = load_breast_cancer()\n",
        "X = cancer.data\n",
        "y = cancer.target\n",
        "# --- END DEMO DATA ---\n",
        "\n",
        "X_train, X_test, y_train, y_test = train_test_split(X, y, test_size=0.3, random_state=42)\n",
        "\n",
        "# Train Logistic Regression model\n",
        "model = LogisticRegression(max_iter=5000, solver='liblinear')\n",
        "model.fit(X_train, y_train)\n",
        "\n",
        "# Make predictions\n",
        "y_pred = model.predict(X_test)\n",
        "\n",
        "# Calculate Cohen's Kappa Score\n",
        "kappa = cohen_kappa_score(y_test, y_pred)\n",
        "accuracy = accuracy_score(y_test, y_pred)\n",
        "\n",
        "print(f\"Accuracy: {accuracy:.4f}\")\n",
        "print(f\"Cohen's Kappa Score: {kappa:.4f}\")\n",
        "\n"
      ],
      "metadata": {
        "colab": {
          "base_uri": "https://localhost:8080/"
        },
        "id": "5mN4gOiJjeRW",
        "outputId": "33e9ebf6-e3a7-4fc1-e7bf-331ccf7fc506"
      },
      "execution_count": 25,
      "outputs": [
        {
          "output_type": "stream",
          "name": "stdout",
          "text": [
            "Accuracy: 0.9649\n",
            "Cohen's Kappa Score: 0.9241\n"
          ]
        }
      ]
    },
    {
      "cell_type": "code",
      "source": [
        "#20.\n",
        "import pandas as pd\n",
        "from sklearn.model_selection import train_test_split\n",
        "from sklearn.linear_model import LogisticRegression\n",
        "from sklearn.metrics import precision_recall_curve, auc\n",
        "import matplotlib.pyplot as plt\n",
        "\n",
        "# Load a dataset suitable for binary classification\n",
        "# --- DEMO DATA ---\n",
        "from sklearn.datasets import load_breast_cancer\n",
        "cancer = load_breast_cancer()\n",
        "X = cancer.data\n",
        "y = cancer.target\n",
        "# --- END DEMO DATA ---\n",
        "\n",
        "X_train, X_test, y_train, y_test = train_test_split(X, y, test_size=0.3, random_state=42)\n",
        "\n",
        "# Train Logistic Regression model\n",
        "model = LogisticRegression(max_iter=5000, solver='liblinear')\n",
        "model.fit(X_train, y_train)\n",
        "\n",
        "# Get predicted probabilities for the positive class (class 1)\n",
        "y_proba = model.predict_proba(X_test)[:, 1]\n",
        "\n",
        "# Calculate Precision-Recall curve\n",
        "precision, recall, _ = precision_recall_curve(y_test, y_proba)\n",
        "pr_auc = auc(recall, precision)\n",
        "\n",
        "# Plot Precision-Recall Curve\n",
        "plt.figure(figsize=(8, 6))\n",
        "plt.plot(recall, precision, color='b', alpha=0.7, label=f'PR curve (AUC = {pr_auc:.2f})')\n",
        "plt.xlabel('Recall')\n",
        "plt.ylabel('Precision')\n",
        "plt.title('Precision-Recall Curve for Logistic Regression')\n",
        "plt.legend(loc='lower left')\n",
        "plt.grid(True)\n",
        "plt.show()"
      ],
      "metadata": {
        "colab": {
          "base_uri": "https://localhost:8080/",
          "height": 564
        },
        "id": "h0TAp1iyjeOH",
        "outputId": "f6fb0284-5586-469c-a27e-8b1644be8029"
      },
      "execution_count": 26,
      "outputs": [
        {
          "output_type": "display_data",
          "data": {
            "text/plain": [
              "<Figure size 800x600 with 1 Axes>"
            ],
            "image/png": "[encoded data removed]"
          },
          "metadata": {}
        }
      ]
    },
    {
      "cell_type": "code",
      "source": [
        "#21.\n",
        "import pandas as pd\n",
        "from sklearn.model_selection import train_test_split\n",
        "from sklearn.linear_model import LogisticRegression\n",
        "from sklearn.metrics import accuracy_score\n",
        "\n",
        "# Load a dataset\n",
        "# --- DEMO DATA ---\n",
        "from sklearn.datasets import load_breast_cancer\n",
        "cancer = load_breast_cancer()\n",
        "X = cancer.data\n",
        "y = cancer.target\n",
        "# --- END DEMO DATA ---\n",
        "\n",
        "X_train, X_test, y_train, y_test = train_test_split(X, y, test_size=0.3, random_state=42)\n",
        "\n",
        "solvers_to_test = ['liblinear', 'lbfgs', 'saga']\n",
        "results = {}\n",
        "\n",
        "for solver in solvers_to_test:\n",
        "    print(f\"\\n--- Testing Solver: {solver} ---\")\n",
        "    try:\n",
        "\n",
        "        if solver == 'liblinear':\n",
        "            model = LogisticRegression(solver=solver, max_iter=5000, penalty='l1') # Example with L1 for liblinear\n",
        "        else:\n",
        "            model = LogisticRegression(solver=solver, max_iter=5000, penalty='l2') # Default L2 for others\n",
        "\n",
        "        model.fit(X_train, y_train)\n",
        "        y_pred = model.predict(X_test)\n",
        "        accuracy = accuracy_score(y_test, y_pred)\n",
        "        results[solver] = accuracy\n",
        "        print(f\"Accuracy with {solver}: {accuracy:.4f}\")\n",
        "    except Exception as e:\n",
        "        print(f\"Could not train with solver {solver}: {e}\")\n",
        "        results[solver] = None # Mark as failed\n",
        "\n",
        "print(\"\\n--- Comparison of Solvers ---\")\n",
        "for solver, accuracy in results.items():\n",
        "    if accuracy is not None:\n",
        "        print(f\"Solver '{solver}': Accuracy = {accuracy:.4f}\")\n",
        "    else:\n",
        "        print(f\"Solver '{solver}': Failed to train\")"
      ],
      "metadata": {
        "colab": {
          "base_uri": "https://localhost:8080/"
        },
        "id": "DnTfphoLjeEo",
        "outputId": "597b91ba-d68b-4d4f-9a00-31061e875fa1"
      },
      "execution_count": 28,
      "outputs": [
        {
          "output_type": "stream",
          "name": "stdout",
          "text": [
            "\n",
            "--- Testing Solver: liblinear ---\n",
            "Accuracy with liblinear: 0.9649\n",
            "\n",
            "--- Testing Solver: lbfgs ---\n",
            "Accuracy with lbfgs: 0.9766\n",
            "\n",
            "--- Testing Solver: saga ---\n",
            "Accuracy with saga: 0.9649\n",
            "\n",
            "--- Comparison of Solvers ---\n",
            "Solver 'liblinear': Accuracy = 0.9649\n",
            "Solver 'lbfgs': Accuracy = 0.9766\n",
            "Solver 'saga': Accuracy = 0.9649\n"
          ]
        }
      ]
    },
    {
      "cell_type": "code",
      "source": [
        "#22.\n",
        "import pandas as pd\n",
        "from sklearn.model_selection import train_test_split\n",
        "from sklearn.linear_model import LogisticRegression\n",
        "from sklearn.metrics import matthews_corrcoef, accuracy_score\n",
        "\n",
        "# Load a dataset suitable for binary classification\n",
        "# --- DEMO DATA ---\n",
        "from sklearn.datasets import load_breast_cancer\n",
        "cancer = load_breast_cancer()\n",
        "X = cancer.data\n",
        "y = cancer.target\n",
        "# --- END DEMO DATA ---\n",
        "\n",
        "X_train, X_test, y_train, y_test = train_test_split(X, y, test_size=0.3, random_state=42)\n",
        "\n",
        "# Train Logistic Regression model\n",
        "model = LogisticRegression(max_iter=5000, solver='liblinear')\n",
        "model.fit(X_train, y_train)\n",
        "\n",
        "# Make predictions\n",
        "y_pred = model.predict(X_test)\n",
        "\n",
        "# Calculate Matthews Correlation Coefficient (MCC)\n",
        "mcc = matthews_corrcoef(y_test, y_pred)\n",
        "accuracy = accuracy_score(y_test, y_pred)\n",
        "\n",
        "print(f\"Accuracy: {accuracy:.4f}\")\n",
        "print(f\"Matthews Correlation Coefficient (MCC): {mcc:.4f}\")\n"
      ],
      "metadata": {
        "colab": {
          "base_uri": "https://localhost:8080/"
        },
        "id": "3W0ALCyUkqsu",
        "outputId": "435ddb2b-cba8-46f5-fb8d-13008bee7417"
      },
      "execution_count": 29,
      "outputs": [
        {
          "output_type": "stream",
          "name": "stdout",
          "text": [
            "Accuracy: 0.9649\n",
            "Matthews Correlation Coefficient (MCC): 0.9244\n"
          ]
        }
      ]
    },
    {
      "cell_type": "code",
      "source": [
        "#23.\n",
        "import pandas as pd\n",
        "from sklearn.model_selection import train_test_split\n",
        "from sklearn.linear_model import LogisticRegression\n",
        "from sklearn.metrics import accuracy_score\n",
        "from sklearn.preprocessing import StandardScaler\n",
        "\n",
        "# Load a dataset\n",
        "# --- DEMO DATA ---\n",
        "from sklearn.datasets import load_breast_cancer\n",
        "cancer = load_breast_cancer()\n",
        "X = cancer.data\n",
        "y = cancer.target\n",
        "# --- END DEMO DATA ---\n",
        "\n",
        "X_train, X_test, y_train, y_test = train_test_split(X, y, test_size=0.3, random_state=42)\n",
        "\n",
        "# --- Train on Raw Data ---\n",
        "print(\"--- Training on Raw Data ---\")\n",
        "model_raw = LogisticRegression(max_iter=5000, solver='liblinear')\n",
        "model_raw.fit(X_train, y_train)\n",
        "y_pred_raw = model_raw.predict(X_test)\n",
        "accuracy_raw = accuracy_score(y_test, y_pred_raw)\n",
        "print(f\"Accuracy on Raw Data: {accuracy_raw:.4f}\")\n",
        "\n",
        "# --- Train on Standardized Data ---\n",
        "print(\"\\n--- Training on Standardized Data ---\")\n",
        "scaler = StandardScaler()\n",
        "X_train_scaled = scaler.fit_transform(X_train)\n",
        "X_test_scaled = scaler.transform(X_test)\n",
        "\n",
        "model_scaled = LogisticRegression(max_iter=5000, solver='liblinear')\n",
        "model_scaled.fit(X_train_scaled, y_train)\n",
        "y_pred_scaled = model_scaled.predict(X_test_scaled)\n",
        "accuracy_scaled = accuracy_score(y_test, y_pred_scaled)\n",
        "print(f\"Accuracy on Standardized Data: {accuracy_scaled:.4f}\")\n",
        "\n",
        "print(\"\\n--- Impact of Feature Scaling ---\")\n",
        "print(f\"Accuracy improvement due to scaling: {accuracy_scaled - accuracy_raw:.4f}\")\n",
        "if accuracy_scaled > accuracy_raw:\n",
        "    print(\"Feature scaling improved model accuracy.\")\n",
        "elif accuracy_scaled < accuracy_raw:\n",
        "    print(\"Feature scaling slightly decreased accuracy (could be due to specific dataset/randomness).\")\n",
        "else:\n",
        "    print(\"Feature scaling had no significant impact on accuracy.\")"
      ],
      "metadata": {
        "colab": {
          "base_uri": "https://localhost:8080/"
        },
        "id": "AwRgmo4QkqoQ",
        "outputId": "8a06a915-5ede-4243-cf9d-ad8045850f2a"
      },
      "execution_count": 30,
      "outputs": [
        {
          "output_type": "stream",
          "name": "stdout",
          "text": [
            "--- Training on Raw Data ---\n",
            "Accuracy on Raw Data: 0.9649\n",
            "\n",
            "--- Training on Standardized Data ---\n",
            "Accuracy on Standardized Data: 0.9825\n",
            "\n",
            "--- Impact of Feature Scaling ---\n",
            "Accuracy improvement due to scaling: 0.0175\n",
            "Feature scaling improved model accuracy.\n"
          ]
        }
      ]
    },
    {
      "cell_type": "code",
      "source": [
        "#24.\n",
        "import pandas as pd\n",
        "from sklearn.model_selection import train_test_split, GridSearchCV\n",
        "from sklearn.linear_model import LogisticRegression\n",
        "from sklearn.metrics import accuracy_score\n",
        "\n",
        "# Load a dataset\n",
        "# --- DEMO DATA ---\n",
        "from sklearn.datasets import load_breast_cancer\n",
        "cancer = load_breast_cancer()\n",
        "X = cancer.data\n",
        "y = cancer.target\n",
        "# --- END DEMO DATA ---\n",
        "\n",
        "X_train, X_test, y_train, y_test = train_test_split(X, y, test_size=0.3, random_state=42)\n",
        "\n",
        "param_grid = {\n",
        "    'C': [0.001, 0.01, 0.1, 1, 10, 100, 1000]\n",
        "}\n",
        "\n",
        "log_reg = LogisticRegression(solver='liblinear', max_iter=5000)\n",
        "\n",
        "# Apply GridSearchCV to find the optimal C\n",
        "grid_search = GridSearchCV(log_reg, param_grid, cv=5, scoring='accuracy', n_jobs=-1)\n",
        "grid_search.fit(X_train, y_train)\n",
        "\n",
        "print(f\"Optimal C found by Cross-Validation: {grid_search.best_params_['C']}\")\n",
        "print(f\"Best Training Accuracy with optimal C: {grid_search.best_score_:.4f}\")\n",
        "\n",
        "# Evaluate the best model on the test set\n",
        "best_model = grid_search.best_estimator_\n",
        "y_pred_optimal_c = best_model.predict(X_test)\n",
        "test_accuracy_optimal_c = accuracy_score(y_test, y_pred_optimal_c)\n",
        "print(f\"Test Accuracy with Optimal C: {test_accuracy_optimal_c:.4f}\")"
      ],
      "metadata": {
        "colab": {
          "base_uri": "https://localhost:8080/"
        },
        "id": "rAYCgvQ0kql8",
        "outputId": "96c36fb4-a7b4-483d-b0dd-523db24860a5"
      },
      "execution_count": 32,
      "outputs": [
        {
          "output_type": "stream",
          "name": "stdout",
          "text": [
            "Optimal C found by Cross-Validation: 1000\n",
            "Best Training Accuracy with optimal C: 0.9673\n",
            "Test Accuracy with Optimal C: 0.9708\n"
          ]
        }
      ]
    },
    {
      "cell_type": "code",
      "source": [
        "#25.\n",
        "import pandas as pd\n",
        "from sklearn.model_selection import train_test_split\n",
        "from sklearn.linear_model import LogisticRegression\n",
        "from sklearn.metrics import accuracy_score\n",
        "import joblib # For saving and loading models\n",
        "\n",
        "# Load a dataset\n",
        "# --- DEMO DATA ---\n",
        "from sklearn.datasets import load_breast_cancer\n",
        "cancer = load_breast_cancer()\n",
        "X = cancer.data\n",
        "y = cancer.target\n",
        "# --- END DEMO DATA ---\n",
        "\n",
        "X_train, X_test, y_train, y_test = train_test_split(X, y, test_size=0.3, random_state=42)\n",
        "\n",
        "# --- 1. Train the Logistic Regression Model ---\n",
        "print(\"--- Training Logistic Regression Model ---\")\n",
        "model = LogisticRegression(max_iter=5000, solver='liblinear')\n",
        "model.fit(X_train, y_train)\n",
        "\n",
        "# Make initial predictions and get accuracy\n",
        "y_pred_original = model.predict(X_test)\n",
        "accuracy_original = accuracy_score(y_test, y_pred_original)\n",
        "print(f\"Original Model Accuracy: {accuracy_original:.4f}\")\n",
        "\n",
        "# --- 2. Save the Trained Model ---\n",
        "model_filename = 'logistic_regression_model.joblib'\n",
        "joblib.dump(model, model_filename)\n",
        "print(f\"\\nModel saved to {model_filename}\")\n",
        "\n",
        "# --- 3. Load the Saved Model ---\n",
        "print(\"\\n--- Loading Model from Disk ---\")\n",
        "loaded_model = joblib.load(model_filename)\n",
        "print(\"Model loaded successfully.\")\n",
        "\n",
        "# --- 4. Make Predictions with the Loaded Model ---\n",
        "print(\"--- Making Predictions with Loaded Model ---\")\n",
        "y_pred_loaded = loaded_model.predict(X_test)\n",
        "accuracy_loaded = accuracy_score(y_test, y_pred_loaded)\n",
        "print(f\"Loaded Model Accuracy: {accuracy_loaded:.4f}\")\n",
        "\n",
        "# Verify that predictions are identical\n",
        "if np.array_equal(y_pred_original, y_pred_loaded):\n",
        "    print(\"\\nPredictions from original and loaded models are identical.\")\n",
        "else:\n",
        "    print(\"\\nPredictions from original and loaded models differ (this is unexpected).\")"
      ],
      "metadata": {
        "colab": {
          "base_uri": "https://localhost:8080/"
        },
        "id": "dwbu-BWuk5Ry",
        "outputId": "b451662c-d9b8-4a54-f6fe-91af19c7e9d6"
      },
      "execution_count": 33,
      "outputs": [
        {
          "output_type": "stream",
          "name": "stdout",
          "text": [
            "--- Training Logistic Regression Model ---\n",
            "Original Model Accuracy: 0.9649\n",
            "\n",
            "Model saved to logistic_regression_model.joblib\n",
            "\n",
            "--- Loading Model from Disk ---\n",
            "Model loaded successfully.\n",
            "--- Making Predictions with Loaded Model ---\n",
            "Loaded Model Accuracy: 0.9649\n",
            "\n",
            "Predictions from original and loaded models are identical.\n"
          ]
        }
      ]
    }
  ]
}